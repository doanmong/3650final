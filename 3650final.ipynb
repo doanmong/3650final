{
 "cells": [
  {
   "cell_type": "code",
   "execution_count": 2,
   "id": "161070dd",
   "metadata": {},
   "outputs": [],
   "source": [
    "import sys\n",
    "from qiskit import IBMQ"
   ]
  },
  {
   "cell_type": "code",
   "execution_count": null,
   "id": "3abd6edd",
   "metadata": {},
   "outputs": [],
   "source": [
    "IBMQ.save_account('24ba05ae76aca7fc6c66e5edfa3164d3ff4d70bb849705c12fd821ecd60d72daee2a8d95d7e438eff7801ec6d8fc4e91767b21f8a0d1367c9bcc828e28f354ad')\n"
   ]
  },
  {
   "cell_type": "code",
   "execution_count": 4,
   "id": "2c6be3ec",
   "metadata": {},
   "outputs": [
    {
     "data": {
      "text/plain": [
       "<AccountProvider for IBMQ(hub='ibm-q', group='open', project='main')>"
      ]
     },
     "execution_count": 4,
     "metadata": {},
     "output_type": "execute_result"
    }
   ],
   "source": [
    "IBMQ.load_account()"
   ]
  },
  {
   "cell_type": "code",
   "execution_count": 5,
   "id": "f70f7ab7",
   "metadata": {},
   "outputs": [],
   "source": [
    "provider = IBMQ.get_provider('ibm-q')"
   ]
  },
  {
   "cell_type": "code",
   "execution_count": 6,
   "id": "3d2012c0",
   "metadata": {},
   "outputs": [],
   "source": [
    "qcomp = provider.get_backend('ibmq_quito')"
   ]
  },
  {
   "cell_type": "code",
   "execution_count": 7,
   "id": "39840229",
   "metadata": {},
   "outputs": [
    {
     "name": "stdout",
     "output_type": "stream",
     "text": [
      "Shortest path is 18\n",
      "Path taken ['a', 'c', 'd', 'g', 'h']\n"
     ]
    }
   ],
   "source": [
    "graph = {\n",
    "'a':{'b':4,'c':5,'d':10},\n",
    "'b':{'c':3,'f':9},\n",
    "'c':{'f':7,'d':3},\n",
    "'d':{'f':4,'g':7},\n",
    "'e':{'g':4,'h':5},\n",
    "'f':{'e':2,'h':9},\n",
    "'g':{'h':3},\n",
    "'h':{'g':3}\n",
    "}\n",
    "\n",
    "def dijkstra(graph,start,goal):\n",
    "    shortest_path = {} #record the cost to reach to that node\n",
    "    track_predecessor = {}\n",
    "    unvisitedNodes = graph #keep track of the path led to node\n",
    "    infinity = 999999 \n",
    "    track_path = [] #to iterate through the entire graph\n",
    "    \n",
    "    for node in unvisitedNodes:\n",
    "        shortest_path[node] = infinity #unvisited\n",
    "    shortest_path[start] = 0 #starting\n",
    "    \n",
    "    while unvisitedNodes:\n",
    "        \n",
    "        smallest_distance_node = None\n",
    "        \n",
    "        for node in unvisitedNodes:\n",
    "            if smallest_distance_node is None:\n",
    "                smallest_distance_node = node\n",
    "            elif shortest_path[node] < shortest_path[smallest_distance_node]:\n",
    "                smallest_distance_node = node\n",
    "            \n",
    "        path_options = graph[smallest_distance_node].items()\n",
    "        \n",
    "        for child_node, weight in path_options:\n",
    "            \n",
    "            if weight + shortest_path[smallest_distance_node] < shortest_path[child_node]:\n",
    "                \n",
    "                shortest_path[child_node] = weight + shortest_path[smallest_distance_node]\n",
    "                track_predecessor[child_node] = smallest_distance_node\n",
    "        \n",
    "        unvisitedNodes.pop(smallest_distance_node)\n",
    "        \n",
    "    currentNode = goal\n",
    "    \n",
    "    while currentNode != start:\n",
    "        try:\n",
    "            track_path.insert(0, currentNode)\n",
    "            currentNode = track_predecessor[currentNode]\n",
    "            \n",
    "        except KeyError:\n",
    "            print(\"path is not reachable\")\n",
    "            break\n",
    "        \n",
    "    track_path.insert(0,start)\n",
    "    \n",
    "    \n",
    "    if shortest_path[goal] != infinity:\n",
    "        \n",
    "        print(\"Shortest path is \"  +  str(shortest_path[goal])) \n",
    "        print(\"Path taken \" + str(track_path))\n",
    "\n",
    "dijkstra(graph,'a','h')"
   ]
  },
  {
   "cell_type": "code",
   "execution_count": null,
   "id": "2be8ebb9",
   "metadata": {},
   "outputs": [],
   "source": []
  }
 ],
 "metadata": {
  "kernelspec": {
   "display_name": "Python 3 (ipykernel)",
   "language": "python",
   "name": "python3"
  },
  "language_info": {
   "codemirror_mode": {
    "name": "ipython",
    "version": 3
   },
   "file_extension": ".py",
   "mimetype": "text/x-python",
   "name": "python",
   "nbconvert_exporter": "python",
   "pygments_lexer": "ipython3",
   "version": "3.9.15"
  }
 },
 "nbformat": 4,
 "nbformat_minor": 5
}
